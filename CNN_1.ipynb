{
  "nbformat": 4,
  "nbformat_minor": 0,
  "metadata": {
    "colab": {
      "provenance": [],
      "authorship_tag": "ABX9TyPH3Qb3n5P43MTYrGsvkzGW",
      "include_colab_link": true
    },
    "kernelspec": {
      "name": "python3",
      "display_name": "Python 3"
    },
    "language_info": {
      "name": "python"
    }
  },
  "cells": [
    {
      "cell_type": "markdown",
      "metadata": {
        "id": "view-in-github",
        "colab_type": "text"
      },
      "source": [
        "<a href=\"https://colab.research.google.com/github/sridevi0323/Animal-Hide---DL/blob/main/CNN_1.ipynb\" target=\"_parent\"><img src=\"https://colab.research.google.com/assets/colab-badge.svg\" alt=\"Open In Colab\"/></a>"
      ]
    },
    {
      "cell_type": "code",
      "execution_count": null,
      "metadata": {
        "colab": {
          "base_uri": "https://localhost:8080/"
        },
        "id": "zfQ2JPCLDv8K",
        "outputId": "c38424e4-6586-45d7-8c05-5875dc05be61"
      },
      "outputs": [
        {
          "output_type": "stream",
          "name": "stdout",
          "text": [
            "Mounted at /content/drive\n"
          ]
        }
      ],
      "source": [
        "from google.colab import drive\n",
        "\n",
        "# Mount Google Drive\n",
        "drive.mount('/content/drive')"
      ]
    },
    {
      "cell_type": "code",
      "source": [
        "import os\n",
        "\n",
        "# Specify the path to your desired directory\n",
        "path_to_directory = '/content/drive/MyDrive/Leather_Dataset'\n",
        "\n",
        "# Change the working directory to the specified path\n",
        "os.chdir(path_to_directory)"
      ],
      "metadata": {
        "id": "8MrS0AVmEI8w"
      },
      "execution_count": null,
      "outputs": []
    },
    {
      "cell_type": "code",
      "source": [
        "# Import necessary libraries\n",
        "import os\n",
        "import numpy as np\n",
        "import tensorflow as tf\n",
        "import matplotlib.pyplot as plt\n",
        "from tensorflow.keras.models import Sequential\n",
        "from tensorflow.keras.layers import Conv2D, MaxPooling2D, Flatten, Dense\n",
        "from tensorflow.keras.preprocessing.image import ImageDataGenerator\n",
        "from tensorflow.keras.optimizers import Adam\n",
        "\n",
        "# Check if GPU is available and set it as the runtime\n",
        "if tf.test.gpu_device_name():\n",
        "    print('Default GPU Device: {}'.format(tf.test.gpu_device_name()))\n",
        "else:\n",
        "    print(\"No GPU available. Switch to a GPU runtime in Google Colab.\")"
      ],
      "metadata": {
        "colab": {
          "base_uri": "https://localhost:8080/"
        },
        "id": "ecGXdC4vENj7",
        "outputId": "0334cff5-6f98-4911-a347-1f191b9ebff0"
      },
      "execution_count": null,
      "outputs": [
        {
          "output_type": "stream",
          "name": "stdout",
          "text": [
            "No GPU available. Switch to a GPU runtime in Google Colab.\n"
          ]
        }
      ]
    },
    {
      "cell_type": "code",
      "source": [
        "# Define the directories for your dataset\n",
        "train_dir = '/content/drive/MyDrive/Leather_Dataset'  # Replace with the path to your training dataset\n",
        "test_dir = '/content/drive/MyDrive/Leather_Dataset'    # Replace with the path to your test dataset\n",
        "\n",
        "# Set parameters for data augmentation and preprocessing\n",
        "train_data_gen = ImageDataGenerator(rescale=1./255, rotation_range=40, width_shift_range=0.2, height_shift_range=0.2, shear_range=0.2, zoom_range=0.2, horizontal_flip=True, fill_mode='nearest')\n",
        "test_data_gen = ImageDataGenerator(rescale=1./255)  # Don't apply data augmentation to the test data\n",
        "\n",
        "# Create generators for loading and augmenting images\n",
        "batch_size = 32\n",
        "train_generator = train_data_gen.flow_from_directory(train_dir, target_size=(150, 150), batch_size=batch_size, class_mode='binary')\n",
        "test_generator = test_data_gen.flow_from_directory(test_dir, target_size=(150, 150), batch_size=batch_size, class_mode='binary')"
      ],
      "metadata": {
        "colab": {
          "base_uri": "https://localhost:8080/"
        },
        "id": "i8qoOvzwEfDx",
        "outputId": "d51bb10a-6705-41be-d268-5fe9af072aa9"
      },
      "execution_count": null,
      "outputs": [
        {
          "output_type": "stream",
          "name": "stdout",
          "text": [
            "Found 1200 images belonging to 2 classes.\n",
            "Found 1200 images belonging to 2 classes.\n"
          ]
        }
      ]
    },
    {
      "cell_type": "code",
      "source": [
        "model = Sequential()\n",
        "\n",
        "model.add(Conv2D(32, (3, 3), activation='relu', input_shape=(150, 150, 3)))\n",
        "model.add(MaxPooling2D(2, 2))\n",
        "\n",
        "model.add(Conv2D(64, (3, 3), activation='relu'))\n",
        "model.add(MaxPooling2D(2, 2))\n",
        "\n",
        "model.add(Conv2D(128, (3, 3), activation='relu'))\n",
        "model.add(MaxPooling2D(2, 2))\n",
        "\n",
        "model.add(Flatten())\n",
        "\n",
        "model.add(Dense(512, activation='relu'))\n",
        "model.add(Dense(1, activation='sigmoid'))"
      ],
      "metadata": {
        "id": "VehCm4fwEzbi"
      },
      "execution_count": null,
      "outputs": []
    },
    {
      "cell_type": "code",
      "source": [
        "model.compile(optimizer=Adam(learning_rate=1e-4), loss='binary_crossentropy', metrics=['accuracy'])\n",
        "\n",
        "epochs = 20\n",
        "history = model.fit(train_generator, steps_per_epoch=train_generator.samples // batch_size, epochs=epochs, validation_data=test_generator, validation_steps=test_generator.samples // batch_size)"
      ],
      "metadata": {
        "colab": {
          "base_uri": "https://localhost:8080/"
        },
        "id": "rkm0bN_WE4Ja",
        "outputId": "4f688af4-5719-49b3-d7da-7145bf738976"
      },
      "execution_count": null,
      "outputs": [
        {
          "output_type": "stream",
          "name": "stdout",
          "text": [
            "Epoch 1/20\n",
            "37/37 [==============================] - 222s 6s/step - loss: 0.5726 - accuracy: 0.7003 - val_loss: 0.4123 - val_accuracy: 0.8159\n",
            "Epoch 2/20\n",
            "37/37 [==============================] - 106s 3s/step - loss: 0.2277 - accuracy: 0.9349 - val_loss: 0.1652 - val_accuracy: 0.9611\n",
            "Epoch 3/20\n",
            "37/37 [==============================] - 101s 3s/step - loss: 0.1220 - accuracy: 0.9615 - val_loss: 0.0875 - val_accuracy: 0.9755\n",
            "Epoch 4/20\n",
            "37/37 [==============================] - 100s 3s/step - loss: 0.0685 - accuracy: 0.9700 - val_loss: 0.0621 - val_accuracy: 0.9789\n",
            "Epoch 5/20\n",
            "37/37 [==============================] - 98s 3s/step - loss: 0.0549 - accuracy: 0.9735 - val_loss: 0.0844 - val_accuracy: 0.9789\n",
            "Epoch 6/20\n",
            "37/37 [==============================] - 97s 3s/step - loss: 0.0521 - accuracy: 0.9717 - val_loss: 0.0845 - val_accuracy: 0.9780\n",
            "Epoch 7/20\n",
            "37/37 [==============================] - 100s 3s/step - loss: 0.0504 - accuracy: 0.9795 - val_loss: 0.1132 - val_accuracy: 0.9721\n",
            "Epoch 8/20\n",
            "37/37 [==============================] - 97s 3s/step - loss: 0.0380 - accuracy: 0.9854 - val_loss: 0.0673 - val_accuracy: 0.9806\n",
            "Epoch 9/20\n",
            "37/37 [==============================] - 95s 3s/step - loss: 0.0489 - accuracy: 0.9769 - val_loss: 0.0952 - val_accuracy: 0.9738\n",
            "Epoch 10/20\n",
            "37/37 [==============================] - 94s 3s/step - loss: 0.0267 - accuracy: 0.9914 - val_loss: 0.1055 - val_accuracy: 0.9764\n",
            "Epoch 11/20\n",
            "37/37 [==============================] - 90s 2s/step - loss: 0.0283 - accuracy: 0.9897 - val_loss: 0.0486 - val_accuracy: 0.9823\n",
            "Epoch 12/20\n",
            "37/37 [==============================] - 91s 2s/step - loss: 0.0261 - accuracy: 0.9923 - val_loss: 0.0640 - val_accuracy: 0.9823\n",
            "Epoch 13/20\n",
            "37/37 [==============================] - 98s 3s/step - loss: 0.0306 - accuracy: 0.9914 - val_loss: 0.0400 - val_accuracy: 0.9856\n",
            "Epoch 14/20\n",
            "37/37 [==============================] - 96s 3s/step - loss: 0.0254 - accuracy: 0.9897 - val_loss: 0.0328 - val_accuracy: 0.9899\n",
            "Epoch 15/20\n",
            "37/37 [==============================] - 95s 3s/step - loss: 0.0223 - accuracy: 0.9914 - val_loss: 0.0620 - val_accuracy: 0.9797\n",
            "Epoch 16/20\n",
            "37/37 [==============================] - 95s 3s/step - loss: 0.0179 - accuracy: 0.9914 - val_loss: 0.0400 - val_accuracy: 0.9831\n",
            "Epoch 17/20\n",
            "37/37 [==============================] - 98s 3s/step - loss: 0.0206 - accuracy: 0.9914 - val_loss: 0.0388 - val_accuracy: 0.9856\n",
            "Epoch 18/20\n",
            "37/37 [==============================] - 95s 3s/step - loss: 0.0167 - accuracy: 0.9949 - val_loss: 0.0267 - val_accuracy: 0.9907\n",
            "Epoch 19/20\n",
            "37/37 [==============================] - 103s 3s/step - loss: 0.0125 - accuracy: 0.9957 - val_loss: 0.0631 - val_accuracy: 0.9823\n",
            "Epoch 20/20\n",
            "37/37 [==============================] - 120s 3s/step - loss: 0.0258 - accuracy: 0.9889 - val_loss: 0.0317 - val_accuracy: 0.9899\n"
          ]
        }
      ]
    },
    {
      "cell_type": "code",
      "source": [
        "# Plot the accuracy graph\n",
        "plt.figure(figsize=(10, 5))\n",
        "plt.plot(history.history['accuracy'], label='Training Accuracy')\n",
        "plt.plot(history.history['val_accuracy'], label='Validation Accuracy')\n",
        "plt.title('Training and Validation Accuracy')\n",
        "plt.xlabel('Epoch')\n",
        "plt.ylabel('Accuracy')\n",
        "plt.legend()\n",
        "plt.show()\n"
      ],
      "metadata": {
        "colab": {
          "base_uri": "https://localhost:8080/",
          "height": 487
        },
        "id": "gjohg33cE75l",
        "outputId": "2a9d1d5e-0ed8-42f1-8ffa-a8adfe51385d"
      },
      "execution_count": null,
      "outputs": [
        {
          "output_type": "display_data",
          "data": {
            "text/plain": [
              "<Figure size 1000x500 with 1 Axes>"
            ],
            "image/png": "[encoded data removed]"
          },
          "metadata": {}
        }
      ]
    },
    {
      "cell_type": "code",
      "source": [
        "# ... (Previous code remains the same)\n",
        "\n",
        "# Initialize empty lists for true and predicted labels\n",
        "y_true = []\n",
        "y_pred = []\n",
        "\n",
        "# Loop over batches in the test generator\n",
        "for i in range(len(test_generator)):\n",
        "    x_batch, y_batch = test_generator[i]\n",
        "    y_true.extend(y_batch)  # Append true labels\n",
        "    y_pred_batch = model.predict(x_batch)  # Predict labels for the current batch\n",
        "    y_pred.extend(np.round(y_pred_batch))  # Append predicted labels\n",
        "\n",
        "# Calculate the confusion matrix and classification report\n",
        "from sklearn.metrics import confusion_matrix, classification_report\n",
        "\n",
        "cm = confusion_matrix(y_true, y_pred)\n",
        "\n",
        "# Print the confusion matrix\n",
        "print(\"Confusion Matrix:\")\n",
        "print(cm)\n",
        "\n",
        "# Print the classification report\n",
        "report = classification_report(y_true, y_pred)\n",
        "print(\"\\nClassification Report:\")\n",
        "print(report)\n"
      ],
      "metadata": {
        "id": "cI7Mt8ntAiRN",
        "colab": {
          "base_uri": "https://localhost:8080/"
        },
        "outputId": "c0d6bc4a-3789-44e1-d07a-0dd99c2091fa"
      },
      "execution_count": null,
      "outputs": [
        {
          "output_type": "stream",
          "name": "stdout",
          "text": [
            "1/1 [==============================] - 1s 617ms/step\n",
            "1/1 [==============================] - 0s 427ms/step\n",
            "1/1 [==============================] - 0s 402ms/step\n",
            "1/1 [==============================] - 0s 431ms/step\n",
            "1/1 [==============================] - 0s 399ms/step\n",
            "1/1 [==============================] - 0s 398ms/step\n",
            "1/1 [==============================] - 0s 377ms/step\n",
            "1/1 [==============================] - 0s 385ms/step\n",
            "1/1 [==============================] - 0s 382ms/step\n",
            "1/1 [==============================] - 0s 411ms/step\n",
            "1/1 [==============================] - 0s 392ms/step\n",
            "1/1 [==============================] - 0s 403ms/step\n",
            "1/1 [==============================] - 0s 373ms/step\n",
            "1/1 [==============================] - 0s 409ms/step\n",
            "1/1 [==============================] - 0s 385ms/step\n",
            "1/1 [==============================] - 1s 677ms/step\n",
            "1/1 [==============================] - 1s 740ms/step\n",
            "1/1 [==============================] - 1s 740ms/step\n",
            "1/1 [==============================] - 1s 735ms/step\n",
            "1/1 [==============================] - 1s 752ms/step\n",
            "1/1 [==============================] - 1s 603ms/step\n",
            "1/1 [==============================] - 0s 452ms/step\n",
            "1/1 [==============================] - 0s 413ms/step\n",
            "1/1 [==============================] - 0s 425ms/step\n",
            "1/1 [==============================] - 0s 408ms/step\n",
            "1/1 [==============================] - 0s 425ms/step\n",
            "1/1 [==============================] - 0s 423ms/step\n",
            "1/1 [==============================] - 0s 400ms/step\n",
            "1/1 [==============================] - 0s 401ms/step\n",
            "1/1 [==============================] - 0s 396ms/step\n",
            "1/1 [==============================] - 0s 448ms/step\n",
            "1/1 [==============================] - 0s 442ms/step\n",
            "1/1 [==============================] - 0s 430ms/step\n",
            "1/1 [==============================] - 0s 425ms/step\n",
            "1/1 [==============================] - 0s 403ms/step\n",
            "1/1 [==============================] - 0s 436ms/step\n",
            "1/1 [==============================] - 0s 423ms/step\n",
            "1/1 [==============================] - 0s 450ms/step\n",
            "Confusion Matrix:\n",
            "[[591   9]\n",
            " [  3 597]]\n",
            "\n",
            "Classification Report:\n",
            "              precision    recall  f1-score   support\n",
            "\n",
            "         0.0       0.99      0.98      0.99       600\n",
            "         1.0       0.99      0.99      0.99       600\n",
            "\n",
            "    accuracy                           0.99      1200\n",
            "   macro avg       0.99      0.99      0.99      1200\n",
            "weighted avg       0.99      0.99      0.99      1200\n",
            "\n"
          ]
        }
      ]
    },
    {
      "cell_type": "code",
      "source": [
        "# ... (Previous code remains the same)\n",
        "\n",
        "# Calculate the confusion matrix\n",
        "from sklearn.metrics import confusion_matrix\n",
        "\n",
        "# Initialize empty lists for true and predicted labels\n",
        "y_true = []\n",
        "y_pred = []\n",
        "\n",
        "# Loop over batches in the test generator\n",
        "for i in range(len(test_generator)):\n",
        "    x_batch, y_batch = test_generator[i]\n",
        "    y_true.extend(y_batch)  # Append true labels\n",
        "    y_pred_batch = model.predict(x_batch)  # Predict labels for the current batch\n",
        "    y_pred.extend(np.round(y_pred_batch))  # Append predicted labels\n",
        "\n",
        "cm = confusion_matrix(y_true, y_pred)\n",
        "\n",
        "# Visualize the confusion matrix as a heatmap\n",
        "import seaborn as sns\n",
        "\n",
        "plt.figure(figsize=(8, 6))\n",
        "sns.heatmap(cm, annot=True, fmt='d', cmap='Blues')\n",
        "plt.xlabel('Predicted Labels')\n",
        "plt.ylabel('True Labels')\n",
        "plt.title('Confusion Matrix')\n",
        "plt.show()\n"
      ],
      "metadata": {
        "colab": {
          "base_uri": "https://localhost:8080/",
          "height": 1000
        },
        "id": "JUfI3nfBwBYT",
        "outputId": "48660d0e-8b5c-4e7b-cb66-fd4551dbc382"
      },
      "execution_count": null,
      "outputs": [
        {
          "output_type": "stream",
          "name": "stdout",
          "text": [
            "1/1 [==============================] - 1s 737ms/step\n",
            "1/1 [==============================] - 1s 725ms/step\n",
            "1/1 [==============================] - 1s 804ms/step\n",
            "1/1 [==============================] - 2s 2s/step\n",
            "1/1 [==============================] - 2s 2s/step\n",
            "1/1 [==============================] - 1s 834ms/step\n",
            "1/1 [==============================] - 1s 792ms/step\n",
            "1/1 [==============================] - 1s 748ms/step\n",
            "1/1 [==============================] - 1s 727ms/step\n",
            "1/1 [==============================] - 1s 827ms/step\n",
            "1/1 [==============================] - 1s 694ms/step\n",
            "1/1 [==============================] - 0s 405ms/step\n",
            "1/1 [==============================] - 0s 396ms/step\n",
            "1/1 [==============================] - 0s 405ms/step\n",
            "1/1 [==============================] - 0s 436ms/step\n",
            "1/1 [==============================] - 0s 411ms/step\n",
            "1/1 [==============================] - 0s 410ms/step\n",
            "1/1 [==============================] - 0s 399ms/step\n",
            "1/1 [==============================] - 0s 490ms/step\n",
            "1/1 [==============================] - 1s 781ms/step\n",
            "1/1 [==============================] - 1s 711ms/step\n",
            "1/1 [==============================] - 1s 716ms/step\n",
            "1/1 [==============================] - 1s 705ms/step\n",
            "1/1 [==============================] - 0s 433ms/step\n",
            "1/1 [==============================] - 0s 384ms/step\n",
            "1/1 [==============================] - 0s 431ms/step\n",
            "1/1 [==============================] - 0s 417ms/step\n",
            "1/1 [==============================] - 0s 419ms/step\n",
            "1/1 [==============================] - 0s 425ms/step\n",
            "1/1 [==============================] - 0s 402ms/step\n",
            "1/1 [==============================] - 0s 393ms/step\n",
            "1/1 [==============================] - 0s 400ms/step\n",
            "1/1 [==============================] - 0s 387ms/step\n",
            "1/1 [==============================] - 0s 404ms/step\n",
            "1/1 [==============================] - 0s 401ms/step\n",
            "1/1 [==============================] - 0s 398ms/step\n",
            "1/1 [==============================] - 0s 374ms/step\n",
            "1/1 [==============================] - 0s 190ms/step\n"
          ]
        },
        {
          "output_type": "display_data",
          "data": {
            "text/plain": [
              "<Figure size 800x600 with 2 Axes>"
            ],
            "image/png": "[encoded data removed]"
          },
          "metadata": {}
        }
      ]
    },
    {
      "cell_type": "code",
      "source": [
        "# Evaluating Metrices\n",
        "\n",
        "TP = cm[1][1]\n",
        "TN = cm[0][0]\n",
        "FP = cm[0][1]\n",
        "FN = cm[1][0]\n",
        "print('True Positives:', TP)\n",
        "print('True Negatives:', TN)\n",
        "print('False Positives:', FP)\n",
        "print('False Negatives:', FN)\n",
        "\n",
        "# calculate accuracy\n",
        "conf_accuracy = (float (TP+TN) / float(TP + TN + FP + FN))\n",
        "\n",
        "# calculate mis-classification\n",
        "conf_misclassification = 1- conf_accuracy\n",
        "\n",
        "# calculate the sensitivity\n",
        "conf_sensitivity = (TP / float(TP + FN))\n",
        "# calculate the specificity\n",
        "conf_specificity = (TN / float(TN + FP))\n",
        "\n",
        "# calculate precision\n",
        "conf_precision = (TN / float(TN + FP))\n",
        "# calculate f_1 score\n",
        "conf_f1 = 2 * ((conf_precision * conf_sensitivity) / (conf_precision + conf_sensitivity))\n",
        "print('-'*50)\n",
        "print(f'Accuracy: {round(conf_accuracy,2)}')\n",
        "print(f'Mis-Classification: {round(conf_misclassification,2)}')\n",
        "print(f'Sensitivity: {round(conf_sensitivity,2)}')\n",
        "print(f'Specificity: {round(conf_specificity,2)}')\n",
        "print(f'Precision: {round(conf_precision,2)}')\n",
        "print(f'f_1 Score: {round(conf_f1,2)}')"
      ],
      "metadata": {
        "id": "96UZvDEsAlO6",
        "colab": {
          "base_uri": "https://localhost:8080/"
        },
        "outputId": "a745217a-ef0e-4219-fabc-992673375289"
      },
      "execution_count": null,
      "outputs": [
        {
          "output_type": "stream",
          "name": "stdout",
          "text": [
            "True Positives: 597\n",
            "True Negatives: 591\n",
            "False Positives: 9\n",
            "False Negatives: 3\n",
            "--------------------------------------------------\n",
            "Accuracy: 0.99\n",
            "Mis-Classification: 0.01\n",
            "Sensitivity: 1.0\n",
            "Specificity: 0.98\n",
            "Precision: 0.98\n",
            "f_1 Score: 0.99\n"
          ]
        }
      ]
    }
  ]
}